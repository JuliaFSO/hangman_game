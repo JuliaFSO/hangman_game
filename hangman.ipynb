{
  "nbformat": 4,
  "nbformat_minor": 0,
  "metadata": {
    "colab": {
      "provenance": [],
      "authorship_tag": "ABX9TyO2c4XtDYztU4PU0eeGhtno",
      "include_colab_link": true
    },
    "kernelspec": {
      "name": "python3",
      "display_name": "Python 3"
    },
    "language_info": {
      "name": "python"
    }
  },
  "cells": [
    {
      "cell_type": "markdown",
      "metadata": {
        "id": "view-in-github",
        "colab_type": "text"
      },
      "source": [
        "<a href=\"https://colab.research.google.com/github/JuliaFSO/hangman_game/blob/main/hangman.ipynb\" target=\"_parent\"><img src=\"https://colab.research.google.com/assets/colab-badge.svg\" alt=\"Open In Colab\"/></a>"
      ]
    },
    {
      "cell_type": "code",
      "execution_count": null,
      "metadata": {
        "id": "swZXSDCLScpT"
      },
      "outputs": [],
      "source": [
        "import csv\n",
        "\n",
        "def writeWordsTofile():\n",
        "  words_list=['Apple','Banana','Orange','Grapes','Mango','Tiger','Elephant','Zebra','Giraffe',\n",
        "              'Monkey','Guitar','Piano','Violin','Drums','Flute','House','Castle','Cabin','Apartment',\n",
        "              'Mansion','Car','Bicycle','Airplane','Helicopter','Boat']\n",
        "\n",
        "  with open('words.csv', 'w') as words:\n",
        "    wordswriter=csv.writer(words)\n",
        "    wordswriter.writerow(['Words'])\n",
        "    for word in words_list:\n",
        "      wordswriter.writerow([word])\n"
      ]
    },
    {
      "cell_type": "code",
      "source": [
        "import random\n",
        "\n",
        "def load():\n",
        "  print('='*50)\n",
        "  print('HANGMAN GAME'.center(50))\n",
        "  print('='*50)\n",
        "  print('Guess the missing letters:')\n",
        "  print('='*50)\n",
        "\n",
        "def random_word():\n",
        "  words_list=[]\n",
        "  with open('words.csv', 'r') as words:\n",
        "    data=csv.reader(words)\n",
        "    for row in data:\n",
        "      words_list.append(row[0])\n",
        "      random_index=random.randint(0,len(words_list)-1)\n",
        "    word=words_list[random_index]\n",
        "    return word.upper()\n",
        "\n",
        "def init_track(word):\n",
        "  dash = ' ___ '\n",
        "  track=dash*len(word)\n",
        "  return track\n",
        "\n",
        "def update_track(track, word, letter):\n",
        "    new_track = ''\n",
        "    for i in range(len(word)):\n",
        "        if word[i] == letter:\n",
        "            new_track += f'  {letter}  '\n",
        "        else:\n",
        "            new_track += track[i*5 : i*5 + 5]\n",
        "    return new_track\n"
      ],
      "metadata": {
        "id": "u24oIVj-WcJy"
      },
      "execution_count": null,
      "outputs": []
    },
    {
      "cell_type": "code",
      "source": [
        "word=random_word().upper()\n",
        "track=init_track(word)\n",
        "load()\n",
        "print(f'\\n{track.center(50)}\\n')\n",
        "\n",
        "tries=len(word)\n",
        "while tries > 0:\n",
        "  guess=input('Enter your a letter or guess the word: ').upper()\n",
        "  if len(guess) == 1:\n",
        "    if guess in word:\n",
        "      print('*'*50)\n",
        "      print(f'Good guess! The word has {guess}.')\n",
        "      print('*'*50)\n",
        "      tries-=1\n",
        "      print(f'You have {tries} tries left.')\n",
        "      print('-'*50)\n",
        "      track=update_track(track, word, guess)\n",
        "      print(f'\\n{track.center(50)}\\n')\n",
        "    else:\n",
        "      print('-'*50)\n",
        "      print(f'Nope. No, \"{guess}\".Try again.')\n",
        "      tries-=1\n",
        "      print('-'*50)\n",
        "      if tries==0:\n",
        "        print(f'You run out of tries.')\n",
        "      elif tries==1:\n",
        "        print(f'ONE MORE TRY.')\n",
        "      else:\n",
        "        print(f'You have {tries} tries left.')\n",
        "  else:\n",
        "    if guess == word:\n",
        "      print('*'*50)\n",
        "      print(f'You got it! The word was \"{guess}\"')\n",
        "      print('*'*50)\n",
        "      break\n",
        "    else:\n",
        "      print('-'*50)\n",
        "      print(f'Nope. The word is not \"{guess}\".Try again.')\n",
        "      print('-'*50)\n",
        "      tries-=1\n",
        "      if tries==0:\n",
        "        print(f'You run out of tries.')\n",
        "      elif tries==1:\n",
        "        print(f'ONE MORE TRY.')\n",
        "      else:\n",
        "        print(f'You have {tries} tries left.')\n",
        "      print('-'*50)\n",
        "  if '_' not in ''.join(track):\n",
        "    print(f'You got it! The word was {word}')\n",
        "    break\n",
        "if tries==0 and '_' in ''.join(track):\n",
        "  print('*'*50)\n",
        "  print(f'The word was {word}. Better luck next time.')\n",
        "  print('*'*50)"
      ],
      "metadata": {
        "colab": {
          "base_uri": "https://localhost:8080/"
        },
        "id": "h6lnvWZsj788",
        "outputId": "c71a5871-e080-402a-bf2a-01904f7c2b75"
      },
      "execution_count": null,
      "outputs": [
        {
          "output_type": "stream",
          "name": "stdout",
          "text": [
            "==================================================\n",
            "                   HANGMAN GAME                   \n",
            "==================================================\n",
            "Guess the missing letters:\n",
            "==================================================\n",
            "\n",
            "             ___  ___  ___  ___  ___              \n",
            "\n",
            "Enter your a letter or guess the word: d\n",
            "--------------------------------------------------\n",
            "Nope. No, \"D\".Try again.\n",
            "--------------------------------------------------\n",
            "You have 4 tries left.\n",
            "Enter your a letter or guess the word: a\n",
            "**************************************************\n",
            "Good guess! The word has A.\n",
            "**************************************************\n",
            "You have 3 tries left.\n",
            "--------------------------------------------------\n",
            "\n",
            "             ___  ___   A   ___  ___              \n",
            "\n",
            "Enter your a letter or guess the word: s\n",
            "--------------------------------------------------\n",
            "Nope. No, \"S\".Try again.\n",
            "--------------------------------------------------\n",
            "You have 2 tries left.\n",
            "Enter your a letter or guess the word: l\n",
            "--------------------------------------------------\n",
            "Nope. No, \"L\".Try again.\n",
            "--------------------------------------------------\n",
            "ONE MORE TRY.\n",
            "Enter your a letter or guess the word: e\n",
            "--------------------------------------------------\n",
            "Nope. No, \"E\".Try again.\n",
            "--------------------------------------------------\n",
            "You run out of tries.\n",
            "**************************************************\n",
            "The word was PIANO. Better luck next time.\n",
            "**************************************************\n"
          ]
        }
      ]
    }
  ]
}